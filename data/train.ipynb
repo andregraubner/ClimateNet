{
  "nbformat": 4,
  "nbformat_minor": 0,
  "metadata": {
    "colab": {
      "provenance": []
    },
    "kernelspec": {
      "name": "python3",
      "display_name": "Python 3"
    },
    "language_info": {
      "name": "python"
    },
    "accelerator": "GPU",
    "gpuClass": "premium"
  },
  "cells": [
    {
      "cell_type": "markdown",
      "source": [
        "# Environment Setup\n",
        "\n",
        "---"
      ],
      "metadata": {
        "id": "xmHzG-uwwIoK"
      }
    },
    {
      "cell_type": "markdown",
      "source": [
        "### Mount Google Drive folder "
      ],
      "metadata": {
        "id": "DnIBEooWfqDj"
      }
    },
    {
      "cell_type": "code",
      "source": [
        "from google.colab import drive\n",
        "drive.mount('/content/drive')"
      ],
      "metadata": {
        "colab": {
          "base_uri": "https://localhost:8080/"
        },
        "id": "gQVfFaq_KodS",
        "outputId": "320e6ff6-4da8-4769-9c0b-37a95e6b3b6d"
      },
      "execution_count": 84,
      "outputs": [
        {
          "output_type": "stream",
          "name": "stdout",
          "text": [
            "Drive already mounted at /content/drive; to attempt to forcibly remount, call drive.mount(\"/content/drive\", force_remount=True).\n"
          ]
        }
      ]
    },
    {
      "cell_type": "markdown",
      "source": [
        "### Checkout code and model config"
      ],
      "metadata": {
        "id": "-w3dpciR053f"
      }
    },
    {
      "cell_type": "code",
      "execution_count": 85,
      "metadata": {
        "colab": {
          "base_uri": "https://localhost:8080/"
        },
        "id": "ziakl-_1BOIR",
        "outputId": "e2c78a09-6d8d-4690-b489-6185125d1276"
      },
      "outputs": [
        {
          "output_type": "stream",
          "name": "stdout",
          "text": [
            "Cloning into 'ClimateNet'...\n",
            "remote: Enumerating objects: 447, done.\u001b[K\n",
            "remote: Counting objects: 100% (202/202), done.\u001b[K\n",
            "remote: Compressing objects: 100% (110/110), done.\u001b[K\n",
            "remote: Total 447 (delta 125), reused 149 (delta 85), pack-reused 245\u001b[K\n",
            "Receiving objects: 100% (447/447), 12.24 MiB | 16.49 MiB/s, done.\n",
            "Resolving deltas: 100% (246/246), done.\n"
          ]
        }
      ],
      "source": [
        "!git clone --branch weights https://github.com/hannahg141/ClimateNet.git"
      ]
    },
    {
      "cell_type": "markdown",
      "source": [
        "# Train and evaluate model"
      ],
      "metadata": {
        "id": "lrfw1wew1RKP"
      }
    },
    {
      "cell_type": "markdown",
      "source": [
        "Check that GPU is connected."
      ],
      "metadata": {
        "id": "KTOsKxxT6T0R"
      }
    },
    {
      "cell_type": "code",
      "source": [
        "import torch\n",
        "\n",
        "gpu_info = !nvidia-smi\n",
        "gpu_info = '\\n'.join(gpu_info)\n",
        "if gpu_info.find('failed') >= 0:\n",
        "  print('Not connected to a GPU')\n",
        "else:\n",
        "  print(gpu_info)\n",
        "\n",
        "print(\"\\nCuda is available: \"+str(torch.cuda.is_available()))\n",
        "\n",
        "!nvcc --version"
      ],
      "metadata": {
        "colab": {
          "base_uri": "https://localhost:8080/"
        },
        "id": "SimqCcN6k4Zl",
        "outputId": "1bd2a489-a911-4e23-f359-5d5013319185"
      },
      "execution_count": 86,
      "outputs": [
        {
          "output_type": "stream",
          "name": "stdout",
          "text": [
            "Mon Dec  5 01:51:18 2022       \n",
            "+-----------------------------------------------------------------------------+\n",
            "| NVIDIA-SMI 460.32.03    Driver Version: 460.32.03    CUDA Version: 11.2     |\n",
            "|-------------------------------+----------------------+----------------------+\n",
            "| GPU  Name        Persistence-M| Bus-Id        Disp.A | Volatile Uncorr. ECC |\n",
            "| Fan  Temp  Perf  Pwr:Usage/Cap|         Memory-Usage | GPU-Util  Compute M. |\n",
            "|                               |                      |               MIG M. |\n",
            "|===============================+======================+======================|\n",
            "|   0  A100-SXM4-40GB      Off  | 00000000:00:04.0 Off |                    0 |\n",
            "| N/A   34C    P0    43W / 400W |      3MiB / 40536MiB |      0%      Default |\n",
            "|                               |                      |             Disabled |\n",
            "+-------------------------------+----------------------+----------------------+\n",
            "                                                                               \n",
            "+-----------------------------------------------------------------------------+\n",
            "| Processes:                                                                  |\n",
            "|  GPU   GI   CI        PID   Type   Process name                  GPU Memory |\n",
            "|        ID   ID                                                   Usage      |\n",
            "|=============================================================================|\n",
            "|  No running processes found                                                 |\n",
            "+-----------------------------------------------------------------------------+\n",
            "\n",
            "Cuda is available: True\n",
            "nvcc: NVIDIA (R) Cuda compiler driver\n",
            "Copyright (c) 2005-2021 NVIDIA Corporation\n",
            "Built on Sun_Feb_14_21:12:58_PST_2021\n",
            "Cuda compilation tools, release 11.2, V11.2.152\n",
            "Build cuda_11.2.r11.2/compiler.29618528_0\n"
          ]
        }
      ]
    },
    {
      "cell_type": "markdown",
      "source": [
        "Move dataset to disk."
      ],
      "metadata": {
        "id": "zzKLnbhmjatb"
      }
    },
    {
      "cell_type": "code",
      "source": [
        "!mkdir /content/Data\n",
        "!mkdir /content/Data/train\n",
        "!mkdir /content/Data/test\n",
        "! ls /content/Data/"
      ],
      "metadata": {
        "id": "KsMz136Pkb9W"
      },
      "execution_count": null,
      "outputs": []
    },
    {
      "cell_type": "code",
      "source": [
        "!cp -r --verbose /content/drive/MyDrive/Stanford/CS230/Data/ClimateNet_Engineered/train/ /content/Data/"
      ],
      "metadata": {
        "id": "rAoUhYDqjYuz"
      },
      "execution_count": null,
      "outputs": []
    },
    {
      "cell_type": "code",
      "source": [
        "!cp -r --verbose /content/drive/MyDrive/Stanford/CS230/Data/ClimateNet_Engineered/test/ /content/Data/"
      ],
      "metadata": {
        "id": "3ZNepPnolF8c"
      },
      "execution_count": null,
      "outputs": []
    },
    {
      "cell_type": "markdown",
      "source": [
        "Move shell to ClimateNet directory."
      ],
      "metadata": {
        "id": "PBRquVby77h7"
      }
    },
    {
      "cell_type": "code",
      "source": [
        "%cd /content/ClimateNet/"
      ],
      "metadata": {
        "id": "Pzk2clJb41A9",
        "colab": {
          "base_uri": "https://localhost:8080/"
        },
        "outputId": "68f11e4a-3497-4cf1-f5cc-7dfe2b46b6a0"
      },
      "execution_count": 88,
      "outputs": [
        {
          "output_type": "stream",
          "name": "stdout",
          "text": [
            "/content/ClimateNet\n"
          ]
        }
      ]
    },
    {
      "cell_type": "markdown",
      "source": [
        "List models:\n",
        "\n"
      ],
      "metadata": {
        "id": "Kw27hciZ8ZT1"
      }
    },
    {
      "cell_type": "code",
      "source": [
        "ls models"
      ],
      "metadata": {
        "colab": {
          "base_uri": "https://localhost:8080/"
        },
        "id": "bST1ORea7nxV",
        "outputId": "42fe4dff-85cb-4b20-f8bd-0cde522e4426"
      },
      "execution_count": 94,
      "outputs": [
        {
          "output_type": "stream",
          "name": "stdout",
          "text": [
            "\u001b[0m\u001b[01;34mTMQ-WS850-VRT850-PLS-.001-jaccard-batch16\u001b[0m/  \u001b[01;34mTMQ-WS850-VRT850-PSL-.001-wce\u001b[0m/\n"
          ]
        }
      ]
    },
    {
      "cell_type": "markdown",
      "source": [
        "Check training parameters."
      ],
      "metadata": {
        "id": "UNCa4q0h8d2L"
      }
    },
    {
      "cell_type": "code",
      "source": [
        "cat models/TMQ-WS850-VRT850-PLS-.001-jaccard-batch16/config.json"
      ],
      "metadata": {
        "colab": {
          "base_uri": "https://localhost:8080/"
        },
        "id": "f_ZPXaJs8eI1",
        "outputId": "0cf0a8c5-f048-4bfb-ad70-08eb8af70563"
      },
      "execution_count": 95,
      "outputs": [
        {
          "output_type": "stream",
          "name": "stdout",
          "text": [
            "{\n",
            "    \"architecture\": \"cgnet\",\n",
            "    \"seed\": 42,\n",
            "    \"lr\": 0.001,\n",
            "    \"train_batch_size\": 16,\n",
            "    \"pred_batch_size\": 8,\n",
            "    \"epochs\": 20,\n",
            "    \"fields\": {\n",
            "        \"TMQ\": {\n",
            "            \"mean\": 19.2185,\n",
            "            \"std\": 15.7346\n",
            "        },\n",
            "        \"WS850\": {\n",
            "            \"mean\": 8.70061,\n",
            "            \"std\": 5.85448\n",
            "        },\n",
            "        \"VRT850\": {\n",
            "            \"mean\": 0.00256632,\n",
            "            \"std\": 6.85154\n",
            "        },\n",
            "        \"PSL\": {\n",
            "            \"mean\": 100814.414,\n",
            "            \"std\": 1461.2227\n",
            "        }\n",
            "    },\n",
            "    \"labels\": [\n",
            "      \"Background\",\n",
            "      \"Tropical Cyclone\",\n",
            "      \"Atmospheric River\"\n",
            "    ],\n",
            "    \"loss\": \"jaccard\",\n",
            "    \"save_epochs\": true,\n",
            "    \"description\": \"CGNet model with Jaccard loss and engineered features.\"\n",
            "}"
          ]
        }
      ]
    },
    {
      "cell_type": "code",
      "source": [
        "!git pull"
      ],
      "metadata": {
        "colab": {
          "base_uri": "https://localhost:8080/"
        },
        "id": "Cz64eS6HqRnU",
        "outputId": "a93a9646-66b7-40b4-d3ea-1f4109fccf76"
      },
      "execution_count": 137,
      "outputs": [
        {
          "output_type": "stream",
          "name": "stdout",
          "text": [
            "remote: Enumerating objects: 7, done.\u001b[K\n",
            "remote: Counting objects:  14% (1/7)\u001b[K\rremote: Counting objects:  28% (2/7)\u001b[K\rremote: Counting objects:  42% (3/7)\u001b[K\rremote: Counting objects:  57% (4/7)\u001b[K\rremote: Counting objects:  71% (5/7)\u001b[K\rremote: Counting objects:  85% (6/7)\u001b[K\rremote: Counting objects: 100% (7/7)\u001b[K\rremote: Counting objects: 100% (7/7), done.\u001b[K\n",
            "remote: Compressing objects: 100% (1/1)\u001b[K\rremote: Compressing objects: 100% (1/1), done.\u001b[K\n",
            "remote: Total 4 (delta 3), reused 4 (delta 3), pack-reused 0\u001b[K\n",
            "Unpacking objects:  25% (1/4)   \rUnpacking objects:  50% (2/4)   \rUnpacking objects:  75% (3/4)   \rUnpacking objects: 100% (4/4)   \rUnpacking objects: 100% (4/4), done.\n",
            "From https://github.com/hannahg141/ClimateNet\n",
            "   5f2f539..e456e2f  weights    -> origin/weights\n",
            "Updating 5f2f539..e456e2f\n",
            "Fast-forward\n",
            " climatenet/models.py | 2 \u001b[32m+\u001b[m\u001b[31m-\u001b[m\n",
            " 1 file changed, 1 insertion(+), 1 deletion(-)\n"
          ]
        }
      ]
    },
    {
      "cell_type": "markdown",
      "source": [
        "Launch training and evaluation script!"
      ],
      "metadata": {
        "id": "wVOITwSg8AMg"
      }
    },
    {
      "cell_type": "code",
      "source": [
        "!python3 train_eval.py \\\n",
        "-d /content/Data/ \\\n",
        "-m /content/ClimateNet/models/TMQ-WS850-VRT850-PLS-.001-jl-mb16/"
      ],
      "metadata": {
        "id": "Ua_a1d2T6Vh_",
        "colab": {
          "base_uri": "https://localhost:8080/"
        },
        "outputId": "636c9eb7-726e-42bb-c296-7247551363fa"
      },
      "execution_count": 138,
      "outputs": [
        {
          "output_type": "stream",
          "name": "stdout",
          "text": [
            "\n",
            "Epoch #1 on device cuda:0:\n",
            "Loss: 0.82764 (jaccard) :  16% 4/25 [00:10<00:53,  2.56s/it]\n",
            "Traceback (most recent call last):\n",
            "  File \"train_eval.py\", line 23, in <module>\n",
            "    cgnet.train(train)\n",
            "  File \"/content/ClimateNet/climatenet/models.py\", line 113, in train\n",
            "    self.optimizer.step()\n",
            "  File \"/usr/local/lib/python3.8/dist-packages/torch/optim/optimizer.py\", line 113, in wrapper\n",
            "    return func(*args, **kwargs)\n",
            "  File \"/usr/local/lib/python3.8/dist-packages/torch/autograd/grad_mode.py\", line 27, in decorate_context\n",
            "    return func(*args, **kwargs)\n",
            "  File \"/usr/local/lib/python3.8/dist-packages/torch/optim/adam.py\", line 157, in step\n",
            "    adam(params_with_grad,\n",
            "  File \"/usr/local/lib/python3.8/dist-packages/torch/optim/adam.py\", line 213, in adam\n",
            "    func(params,\n",
            "  File \"/usr/local/lib/python3.8/dist-packages/torch/optim/adam.py\", line 305, in _single_tensor_adam\n",
            "    denom = (exp_avg_sq.sqrt() / bias_correction2_sqrt).add_(eps)\n",
            "KeyboardInterrupt\n",
            "^C\n"
          ]
        }
      ]
    },
    {
      "cell_type": "markdown",
      "source": [
        "# Save model for future evaluation"
      ],
      "metadata": {
        "id": "qRuqxbvvNmKc"
      }
    },
    {
      "cell_type": "code",
      "source": [
        "!ls models/TMQ-WS850-VRT850-PLS-.001-jl-mb16"
      ],
      "metadata": {
        "colab": {
          "base_uri": "https://localhost:8080/"
        },
        "id": "4e3ZSZYqCa7t",
        "outputId": "b09edbc1-095b-4b82-cf36-a7cd890a5d7d"
      },
      "execution_count": 114,
      "outputs": [
        {
          "output_type": "stream",
          "name": "stdout",
          "text": [
            "config.json  weights.pth\n"
          ]
        }
      ]
    },
    {
      "cell_type": "code",
      "source": [
        "!ls '/content/drive/MyDrive/Stanford/CS230/'"
      ],
      "metadata": {
        "colab": {
          "base_uri": "https://localhost:8080/"
        },
        "id": "WV4GGjMKOp-_",
        "outputId": "b343ce3d-d87c-41c3-8fd4-9791008c5bb7"
      },
      "execution_count": 129,
      "outputs": [
        {
          "output_type": "stream",
          "name": "stdout",
          "text": [
            "'Action Items.gdoc'\t 'Final Report Office Hours.gdoc'\n",
            " ClimateNet\t\t 'Links to all data.gsheet'\n",
            " Code\t\t\t  Literature\n",
            " Data\t\t\t 'Milestone Office Hours.gdoc'\n",
            " Experimentation.gsheet   Models\n"
          ]
        }
      ]
    },
    {
      "cell_type": "code",
      "source": [
        "!mkdir /content/drive/MyDrive/Stanford/CS230/Models/TMQ-WS850-VRT850-PLS-.001-jl-mb16\n",
        "!cp models/TMQ-WS850-VRT850-PLS-.001-jl-mb16/* /content/drive/MyDrive/Stanford/CS230/Models/TMQ-WS850-VRT850-PLS-.001-jl-mb16"
      ],
      "metadata": {
        "id": "z-NkWqtHNydk"
      },
      "execution_count": 132,
      "outputs": []
    }
  ]
}