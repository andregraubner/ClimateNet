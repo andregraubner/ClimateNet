{
  "cells": [
    {
      "cell_type": "markdown",
      "metadata": {
        "id": "xmHzG-uwwIoK"
      },
      "source": [
        "# Environment Setup\n",
        "\n",
        "---"
      ]
    },
    {
      "cell_type": "markdown",
      "metadata": {
        "id": "DnIBEooWfqDj"
      },
      "source": [
        "### Mount Google Drive folder "
      ]
    },
    {
      "cell_type": "code",
      "execution_count": 1,
      "metadata": {
        "colab": {
          "base_uri": "https://localhost:8080/"
        },
        "id": "gQVfFaq_KodS",
        "outputId": "72aebad8-6ac6-4e8c-e9ed-3a5a1379862d"
      },
      "outputs": [
        {
          "output_type": "stream",
          "name": "stdout",
          "text": [
            "Mounted at /content/drive\n"
          ]
        }
      ],
      "source": [
        "from google.colab import drive\n",
        "drive.mount('/content/drive')"
      ]
    },
    {
      "cell_type": "markdown",
      "metadata": {
        "id": "-w3dpciR053f"
      },
      "source": [
        "### Checkout code and model config"
      ]
    },
    {
      "cell_type": "code",
      "execution_count": 2,
      "metadata": {
        "colab": {
          "base_uri": "https://localhost:8080/"
        },
        "id": "ziakl-_1BOIR",
        "outputId": "780083a1-f497-497f-861a-6e7a5569278c"
      },
      "outputs": [
        {
          "output_type": "stream",
          "name": "stdout",
          "text": [
            "Cloning into 'ClimateNet'...\n",
            "remote: Enumerating objects: 801, done.\u001b[K\n",
            "remote: Counting objects: 100% (67/67), done.\u001b[K\n",
            "remote: Compressing objects: 100% (41/41), done.\u001b[K\n",
            "remote: Total 801 (delta 44), reused 43 (delta 23), pack-reused 734\u001b[K\n",
            "Receiving objects: 100% (801/801), 15.94 MiB | 38.23 MiB/s, done.\n",
            "Resolving deltas: 100% (497/497), done.\n"
          ]
        }
      ],
      "source": [
        "!git clone --branch history https://github.com/hannahg141/ClimateNet.git"
      ]
    },
    {
      "cell_type": "markdown",
      "metadata": {
        "id": "lrfw1wew1RKP"
      },
      "source": [
        "# Train and evaluate model"
      ]
    },
    {
      "cell_type": "markdown",
      "metadata": {
        "id": "KTOsKxxT6T0R"
      },
      "source": [
        "Check that GPU is connected."
      ]
    },
    {
      "cell_type": "code",
      "execution_count": 3,
      "metadata": {
        "colab": {
          "base_uri": "https://localhost:8080/"
        },
        "id": "SimqCcN6k4Zl",
        "outputId": "8f06fe2e-ab6b-4393-f404-15ec931a8d7d"
      },
      "outputs": [
        {
          "output_type": "stream",
          "name": "stdout",
          "text": [
            "Tue Dec  6 14:20:15 2022       \n",
            "+-----------------------------------------------------------------------------+\n",
            "| NVIDIA-SMI 460.32.03    Driver Version: 460.32.03    CUDA Version: 11.2     |\n",
            "|-------------------------------+----------------------+----------------------+\n",
            "| GPU  Name        Persistence-M| Bus-Id        Disp.A | Volatile Uncorr. ECC |\n",
            "| Fan  Temp  Perf  Pwr:Usage/Cap|         Memory-Usage | GPU-Util  Compute M. |\n",
            "|                               |                      |               MIG M. |\n",
            "|===============================+======================+======================|\n",
            "|   0  A100-SXM4-40GB      Off  | 00000000:00:04.0 Off |                    0 |\n",
            "| N/A   30C    P0    52W / 400W |      0MiB / 40536MiB |      0%      Default |\n",
            "|                               |                      |             Disabled |\n",
            "+-------------------------------+----------------------+----------------------+\n",
            "                                                                               \n",
            "+-----------------------------------------------------------------------------+\n",
            "| Processes:                                                                  |\n",
            "|  GPU   GI   CI        PID   Type   Process name                  GPU Memory |\n",
            "|        ID   ID                                                   Usage      |\n",
            "|=============================================================================|\n",
            "|  No running processes found                                                 |\n",
            "+-----------------------------------------------------------------------------+\n",
            "\n",
            "Cuda is available: True\n",
            "nvcc: NVIDIA (R) Cuda compiler driver\n",
            "Copyright (c) 2005-2021 NVIDIA Corporation\n",
            "Built on Sun_Feb_14_21:12:58_PST_2021\n",
            "Cuda compilation tools, release 11.2, V11.2.152\n",
            "Build cuda_11.2.r11.2/compiler.29618528_0\n"
          ]
        }
      ],
      "source": [
        "import torch\n",
        "\n",
        "gpu_info = !nvidia-smi\n",
        "gpu_info = '\\n'.join(gpu_info)\n",
        "if gpu_info.find('failed') >= 0:\n",
        "  print('Not connected to a GPU')\n",
        "else:\n",
        "  print(gpu_info)\n",
        "\n",
        "print(\"\\nCuda is available: \"+str(torch.cuda.is_available()))\n",
        "\n",
        "!nvcc --version"
      ]
    },
    {
      "cell_type": "markdown",
      "metadata": {
        "id": "zzKLnbhmjatb"
      },
      "source": [
        "Move dataset to disk."
      ]
    },
    {
      "cell_type": "code",
      "execution_count": 4,
      "metadata": {
        "colab": {
          "base_uri": "https://localhost:8080/"
        },
        "id": "KsMz136Pkb9W",
        "outputId": "54aee575-8cc2-46e8-b71c-c81845cc0b03"
      },
      "outputs": [
        {
          "output_type": "stream",
          "name": "stdout",
          "text": [
            "test  train  val\n"
          ]
        }
      ],
      "source": [
        "!mkdir /content/Data\n",
        "!mkdir /content/Data/train\n",
        "!mkdir /content/Data/val\n",
        "!mkdir /content/Data/test\n",
        "! ls /content/Data/"
      ]
    },
    {
      "cell_type": "code",
      "execution_count": 5,
      "metadata": {
        "id": "rAoUhYDqjYuz"
      },
      "outputs": [],
      "source": [
        "!cp -r /content/drive/MyDrive/Stanford/CS230/Data/ClimateNet/train/ /content/Data/"
      ]
    },
    {
      "cell_type": "code",
      "execution_count": null,
      "metadata": {
        "id": "3ZNepPnolF8c"
      },
      "outputs": [],
      "source": [
        "!mv --verbose /content/Data/train/*2008* /content/Data/val/\n",
        "!mv --verbose /content/Data/train/*2009* /content/Data/val/\n",
        "!mv --verbose /content/Data/train/*2010* /content/Data/val/"
      ]
    },
    {
      "cell_type": "code",
      "source": [
        "!cp -r --verbose /content/drive/MyDrive/Stanford/CS230/Data/ClimateNet/test/ /content/Data/"
      ],
      "metadata": {
        "id": "ynWJbwAFe81m"
      },
      "execution_count": null,
      "outputs": []
    },
    {
      "cell_type": "code",
      "source": [
        "ls -al /content/Data/train"
      ],
      "metadata": {
        "id": "l_LRIs0_0kot"
      },
      "execution_count": null,
      "outputs": []
    },
    {
      "cell_type": "code",
      "execution_count": null,
      "metadata": {
        "id": "Cz64eS6HqRnU"
      },
      "outputs": [],
      "source": [
        "!git pull"
      ]
    },
    {
      "cell_type": "markdown",
      "metadata": {
        "id": "PBRquVby77h7"
      },
      "source": [
        "Move shell to ClimateNet directory."
      ]
    },
    {
      "cell_type": "code",
      "execution_count": 22,
      "metadata": {
        "colab": {
          "base_uri": "https://localhost:8080/"
        },
        "id": "Pzk2clJb41A9",
        "outputId": "3d5feb20-0c15-49fa-ca0e-c05898b29e22"
      },
      "outputs": [
        {
          "output_type": "stream",
          "name": "stdout",
          "text": [
            "/content/ClimateNet\n"
          ]
        }
      ],
      "source": [
        "%cd /content/ClimateNet/"
      ]
    },
    {
      "cell_type": "markdown",
      "metadata": {
        "id": "Kw27hciZ8ZT1"
      },
      "source": [
        "List models:\n",
        "\n"
      ]
    },
    {
      "cell_type": "code",
      "execution_count": 23,
      "metadata": {
        "colab": {
          "base_uri": "https://localhost:8080/"
        },
        "id": "bST1ORea7nxV",
        "outputId": "a2863365-6a7a-40d2-da7d-b7af7757e301"
      },
      "outputs": [
        {
          "output_type": "stream",
          "name": "stdout",
          "text": [
            "baseline    data\timage_climatenet.png  print.py\t train_eval.py\n",
            "climatenet  example.py\tmodels\t\t      README.md\n"
          ]
        }
      ],
      "source": [
        "!rm config.json\n",
        "!ls /content/ClimateNet/\n"
      ]
    },
    {
      "cell_type": "markdown",
      "metadata": {
        "id": "UNCa4q0h8d2L"
      },
      "source": [
        "Define training parameters."
      ]
    },
    {
      "cell_type": "code",
      "execution_count": 24,
      "metadata": {
        "id": "f_ZPXaJs8eI1"
      },
      "outputs": [],
      "source": [
        "import json\n",
        "\n",
        "# Create the JSON object for config parameters\n",
        "config = {\n",
        "    \"architecture\": \"cgnet\",\n",
        "    \"seed\": 42,\n",
        "    \"lr\": 0.001,\n",
        "    \"train_batch_size\": 4,\n",
        "    \"pred_batch_size\": 8,\n",
        "    \"epochs\": 15,\n",
        "    \"fields\": {\n",
        "        \"TMQ\": {\n",
        "            \"mean\": 19.21859,\n",
        "            \"std\": 15.81723\n",
        "        },\n",
        "        \"U850\": {\n",
        "            \"mean\": 1.55302,\n",
        "            \"std\": 8.29764\n",
        "        },\n",
        "        \"V850\": {\n",
        "            \"mean\": 0.25413,\n",
        "            \"std\": 6.23163\n",
        "        },\n",
        "        \"PSL\": {\n",
        "            \"mean\": 100814.414,\n",
        "            \"std\": 1461.2227\n",
        "        }\n",
        "    },\n",
        "    \"labels\": [\n",
        "      \"Background\",\n",
        "      \"Tropical Cyclone\",\n",
        "      \"Atmospheric River\"\n",
        "    ],\n",
        "    \"loss\": \"jaccard\",\n",
        "    \"description\": \"Original CGNet model with jaccard loss from the paper.\"\n",
        "}\n",
        "\n",
        "# Write the JSON object to a file in current directory\n",
        "with open('config.json', 'w') as f:\n",
        "    json.dump(config, f)"
      ]
    },
    {
      "cell_type": "markdown",
      "source": [
        "Check training parameters"
      ],
      "metadata": {
        "id": "0O8k-3ta2STZ"
      }
    },
    {
      "cell_type": "code",
      "source": [
        "cat config.json"
      ],
      "metadata": {
        "colab": {
          "base_uri": "https://localhost:8080/"
        },
        "id": "zNo0pEpt2TLX",
        "outputId": "e3c7fd95-5602-4070-93eb-ef7e598a94fc"
      },
      "execution_count": 25,
      "outputs": [
        {
          "output_type": "stream",
          "name": "stdout",
          "text": [
            "{\"architecture\": \"cgnet\", \"seed\": 42, \"lr\": 0.001, \"train_batch_size\": 4, \"pred_batch_size\": 8, \"epochs\": 15, \"fields\": {\"TMQ\": {\"mean\": 19.21859, \"std\": 15.81723}, \"U850\": {\"mean\": 1.55302, \"std\": 8.29764}, \"V850\": {\"mean\": 0.25413, \"std\": 6.23163}, \"PSL\": {\"mean\": 100814.414, \"std\": 1461.2227}}, \"labels\": [\"Background\", \"Tropical Cyclone\", \"Atmospheric River\"], \"loss\": \"jaccard\", \"description\": \"Original CGNet model with jaccard loss from the paper.\"}"
          ]
        }
      ]
    },
    {
      "cell_type": "markdown",
      "metadata": {
        "id": "wVOITwSg8AMg"
      },
      "source": [
        "Launch training and evaluation script!"
      ]
    },
    {
      "cell_type": "code",
      "execution_count": null,
      "metadata": {
        "id": "Ua_a1d2T6Vh_"
      },
      "outputs": [],
      "source": [
        "!python3 train_eval.py \\\n",
        "-d /content/Data/ \\\n",
        "-m /content/ClimateNet/"
      ]
    },
    {
      "cell_type": "markdown",
      "source": [
        "# Plot training history"
      ],
      "metadata": {
        "id": "A2OMc1cQyDow"
      }
    },
    {
      "cell_type": "code",
      "source": [
        "import seaborn as sns\n",
        "import pandas as pd\n",
        "\n",
        "# Open training history as a data frame\n",
        "df = pd.read_csv('history.csv')\n",
        "\n",
        "# Create the plot with custom colors for the lines\n",
        "sns.set(rc = {'figure.figsize' : ( 16, 9 ), \n",
        "               'axes.labelsize' : 16, 'axes.titlesize' : 24  })\n",
        "ax = sns.lineplot(x=range(len(df)), y=\"minibatch_loss\", data=df, label=\"Training loss\", color=\"orange\").set(title=\"Training and validation loss\")\n",
        "ay = sns.lineplot(x=range(len(df)), y=\"epoch_val_loss\", data=df, label=\"Validation loss\", color=\"blue\")\n"
      ],
      "metadata": {
        "colab": {
          "base_uri": "https://localhost:8080/",
          "height": 502
        },
        "id": "JEUGDcBryHGf",
        "outputId": "fb6ccdb6-905d-46b6-cfcc-9b189ff6beeb"
      },
      "execution_count": 49,
      "outputs": [
        {
          "output_type": "display_data",
          "data": {
            "text/plain": [
              "<Figure size 1152x648 with 1 Axes>"
            ],
            "image/png": "[encoded data removed]"
          },
          "metadata": {}
        }
      ]
    },
    {
      "cell_type": "markdown",
      "metadata": {
        "id": "qRuqxbvvNmKc"
      },
      "source": [
        "# Save model for future evaluation"
      ]
    },
    {
      "cell_type": "code",
      "execution_count": 50,
      "metadata": {
        "colab": {
          "base_uri": "https://localhost:8080/"
        },
        "id": "4e3ZSZYqCa7t",
        "outputId": "69e1403d-a9a6-4cca-ab56-41c0bfd72a97"
      },
      "outputs": [
        {
          "output_type": "stream",
          "name": "stdout",
          "text": [
            "total 4504\n",
            "drwxr-xr-x 7 root root    4096 Dec  6 14:49 .\n",
            "drwxr-xr-x 1 root root    4096 Dec  6 14:20 ..\n",
            "drwxr-xr-x 2 root root    4096 Dec  6 14:20 baseline\n",
            "drwxr-xr-x 5 root root    4096 Dec  6 14:37 climatenet\n",
            "-rw-r--r-- 1 root root     703 Dec  6 14:49 config.json\n",
            "drwxr-xr-x 2 root root    4096 Dec  6 14:20 data\n",
            "-rw-r--r-- 1 root root    1112 Dec  6 14:20 example.py\n",
            "drwxr-xr-x 8 root root    4096 Dec  6 14:37 .git\n",
            "-rw-r--r-- 1 root root   73379 Dec  6 14:49 history.csv\n",
            "-rw-r--r-- 1 root root 2281680 Dec  6 14:20 image_climatenet.png\n",
            "drwxr-xr-x 8 root root    4096 Dec  6 14:20 models\n",
            "-rw-r--r-- 1 root root    1211 Dec  6 14:20 print.py\n",
            "-rw-r--r-- 1 root root    4814 Dec  6 14:20 README.md\n",
            "-rw-r--r-- 1 root root    1206 Dec  6 14:20 train_eval.py\n",
            "-rw-r--r-- 1 root root 2197533 Dec  6 14:49 weights.pth\n"
          ]
        }
      ],
      "source": [
        "!ls -al "
      ]
    },
    {
      "cell_type": "code",
      "execution_count": 51,
      "metadata": {
        "colab": {
          "base_uri": "https://localhost:8080/"
        },
        "id": "WV4GGjMKOp-_",
        "outputId": "84cd84d7-849a-4bb4-90c0-0869e5683ac8"
      },
      "outputs": [
        {
          "output_type": "stream",
          "name": "stdout",
          "text": [
            "baseline\n",
            "TMQ-WS850-VRT850-PLS-.001-jl-mb16\n",
            "TMQ-WS850-VRT850-PLS-PRECT-.0001-jl-mb16\n",
            "TMQ-WS850-VRT850-PLS-PRECT-.0001-wce\n",
            "TMQ-WS850-VRT850-PLS-PRECT-.001-jl-mb16\n",
            "TMQ-WS850-VRT850-PLS-PRECT-.001.wce\n"
          ]
        }
      ],
      "source": [
        "!ls '/content/drive/MyDrive/Stanford/CS230/Models'"
      ]
    },
    {
      "cell_type": "code",
      "execution_count": 52,
      "metadata": {
        "id": "z-NkWqtHNydk"
      },
      "outputs": [],
      "source": [
        "!mkdir /content/drive/MyDrive/Stanford/CS230/Models/2022-12-06-001/\n",
        "!cp config.json '/content/drive/MyDrive/Stanford/CS230/Models/2022-12-06-001/'\n",
        "!cp weights.pth '/content/drive/MyDrive/Stanford/CS230/Models/2022-12-06-001/'\n",
        "!cp history.csv '/content/drive/MyDrive/Stanford/CS230/Models/2022-12-06-001/'"
      ]
    }
  ],
  "metadata": {
    "accelerator": "GPU",
    "colab": {
      "provenance": []
    },
    "gpuClass": "premium",
    "kernelspec": {
      "display_name": "Python 3",
      "name": "python3"
    },
    "language_info": {
      "name": "python"
    }
  },
  "nbformat": 4,
  "nbformat_minor": 0
}